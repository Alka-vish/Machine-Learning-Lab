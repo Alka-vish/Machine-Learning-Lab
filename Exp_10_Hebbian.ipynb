{
  "nbformat": 4,
  "nbformat_minor": 0,
  "metadata": {
    "colab": {
      "provenance": [],
      "authorship_tag": "ABX9TyO/js6ToeV8TbrrPecP5iU/",
      "include_colab_link": true
    },
    "kernelspec": {
      "name": "python3",
      "display_name": "Python 3"
    },
    "language_info": {
      "name": "python"
    }
  },
  "cells": [
    {
      "cell_type": "markdown",
      "metadata": {
        "id": "view-in-github",
        "colab_type": "text"
      },
      "source": [
        "<a href=\"https://colab.research.google.com/github/Alka-vish/Machine-Learning-Lab/blob/main/Exp_10_Hebbian.ipynb\" target=\"_parent\"><img src=\"https://colab.research.google.com/assets/colab-badge.svg\" alt=\"Open In Colab\"/></a>"
      ]
    },
    {
      "cell_type": "code",
      "execution_count": null,
      "metadata": {
        "colab": {
          "base_uri": "https://localhost:8080/"
        },
        "id": "nGguEtUERuNr",
        "outputId": "6a5a491f-983a-47e1-fd32-7f69a1db70c1"
      },
      "outputs": [
        {
          "output_type": "stream",
          "name": "stdout",
          "text": [
            "Epoch 1 - Weights: [0.4 0.2 0.2]\n",
            "Epoch 2 - Weights: [0.8 0.4 0.4]\n",
            "Epoch 3 - Weights: [1.2 0.6 0.6]\n",
            "Epoch 4 - Weights: [1.6 0.8 0.8]\n",
            "Epoch 5 - Weights: [2. 1. 1.]\n",
            "Epoch 6 - Weights: [2.4 1.2 1.2]\n",
            "Epoch 7 - Weights: [2.8 1.4 1.4]\n",
            "Epoch 8 - Weights: [3.2 1.6 1.6]\n",
            "Epoch 9 - Weights: [3.6 1.8 1.8]\n",
            "Epoch 10 - Weights: [4. 2. 2.]\n",
            "\n",
            "Testing trained neuron:\n",
            "Input: [0 0], Output: 1\n",
            "Input: [0 1], Output: 1\n",
            "Input: [1 0], Output: 1\n",
            "Input: [1 1], Output: 1\n"
          ]
        }
      ],
      "source": [
        "import numpy as np\n",
        "\n",
        "class HebbianNeuron:\n",
        "    def __init__(self, input_size, learning_rate=0.1):\n",
        "        self.weights = np.zeros(input_size)\n",
        "        self.learning_rate = learning_rate\n",
        "\n",
        "    def activate(self, x):\n",
        "        # Simple threshold activation: output 1 if weighted sum >= 0 else 0\n",
        "        return 1 if np.dot(self.weights, x) >= 0 else 0\n",
        "\n",
        "    def train(self, inputs, targets, epochs=10):\n",
        "        for epoch in range(epochs):\n",
        "            for x, y in zip(inputs, targets):\n",
        "                output = self.activate(x)\n",
        "                # Hebbian update: Δw = η * input * output\n",
        "                self.weights += self.learning_rate * x * output\n",
        "            print(f\"Epoch {epoch+1} - Weights: {self.weights}\")\n",
        "\n",
        "# AND gate inputs with bias term added as the first input\n",
        "inputs = np.array([\n",
        "    [1, 0, 0],  # bias=1, x1=0, x2=0\n",
        "    [1, 0, 1],\n",
        "    [1, 1, 0],\n",
        "    [1, 1, 1]\n",
        "])\n",
        "\n",
        "# AND gate targets\n",
        "targets = np.array([0, 0, 0, 1])\n",
        "\n",
        "# Initialize neuron with 3 weights (including bias)\n",
        "neuron = HebbianNeuron(input_size=3, learning_rate=0.1)\n",
        "\n",
        "# Train the neuron\n",
        "neuron.train(inputs, targets, epochs=10)\n",
        "\n",
        "# Test the neuron after training\n",
        "print(\"\\nTesting trained neuron:\")\n",
        "for x in inputs:\n",
        "    output = neuron.activate(x)\n",
        "    print(f\"Input: {x[1:]}, Output: {output}\")\n"
      ]
    }
  ]
}