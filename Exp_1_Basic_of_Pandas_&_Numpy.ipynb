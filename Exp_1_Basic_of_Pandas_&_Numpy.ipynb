{
  "nbformat": 4,
  "nbformat_minor": 0,
  "metadata": {
    "colab": {
      "provenance": [],
      "authorship_tag": "ABX9TyM4mt2jdnUblKCj8CpDDwjq",
      "include_colab_link": true
    },
    "kernelspec": {
      "name": "python3",
      "display_name": "Python 3"
    },
    "language_info": {
      "name": "python"
    }
  },
  "cells": [
    {
      "cell_type": "markdown",
      "metadata": {
        "id": "view-in-github",
        "colab_type": "text"
      },
      "source": [
        "<a href=\"https://colab.research.google.com/github/Alka-vish/Machine-Learning-Lab/blob/main/Exp_1_Basic_of_Pandas_%26_Numpy.ipynb\" target=\"_parent\"><img src=\"https://colab.research.google.com/assets/colab-badge.svg\" alt=\"Open In Colab\"/></a>"
      ]
    },
    {
      "cell_type": "code",
      "execution_count": 1,
      "metadata": {
        "colab": {
          "base_uri": "https://localhost:8080/"
        },
        "id": "hfaTLM3TMRAU",
        "outputId": "0039d186-b082-4b35-dc19-6feae1c6b2d0"
      },
      "outputs": [
        {
          "output_type": "stream",
          "name": "stdout",
          "text": [
            "Original Array: [10 20 30 40 50]\n",
            "Mean: 30.0\n",
            "Standard Deviation: 14.142135623730951\n",
            "Array multiplied by 2: [ 20  40  60  80 100]\n",
            "\n",
            "DataFrame:\n",
            "    Name  Age  Marks\n",
            "0  Amit   22     85\n",
            "1  Neha   25     90\n",
            "2  Ravi   24     78\n",
            "3  Sara   23     92\n",
            "\n",
            "Average Marks: 86.25\n",
            "Maximum Age: 25\n",
            "\n",
            "Updated DataFrame:\n",
            "    Name  Age  Marks Grade\n",
            "0  Amit   22     85     A\n",
            "1  Neha   25     90    A+\n",
            "2  Ravi   24     78     B\n",
            "3  Sara   23     92    A+\n"
          ]
        }
      ],
      "source": [
        "# -------------------- NumPy Example --------------------\n",
        "import numpy as np\n",
        "\n",
        "# Create a NumPy array\n",
        "arr = np.array([10, 20, 30, 40, 50])\n",
        "\n",
        "# Perform basic operations\n",
        "print(\"Original Array:\", arr)\n",
        "print(\"Mean:\", np.mean(arr))\n",
        "print(\"Standard Deviation:\", np.std(arr))\n",
        "print(\"Array multiplied by 2:\", arr * 2)\n",
        "\n",
        "\n",
        "# -------------------- Pandas Example --------------------\n",
        "import pandas as pd\n",
        "\n",
        "# Create a simple DataFrame\n",
        "data = {\n",
        "    'Name': ['Amit', 'Neha', 'Ravi', 'Sara'],\n",
        "    'Age': [22, 25, 24, 23],\n",
        "    'Marks': [85, 90, 78, 92]\n",
        "}\n",
        "\n",
        "df = pd.DataFrame(data)\n",
        "\n",
        "# Display the DataFrame\n",
        "print(\"\\nDataFrame:\\n\", df)\n",
        "\n",
        "# Basic Pandas operations\n",
        "print(\"\\nAverage Marks:\", df['Marks'].mean())\n",
        "print(\"Maximum Age:\", df['Age'].max())\n",
        "\n",
        "# Add a new column\n",
        "df['Grade'] = ['A', 'A+', 'B', 'A+']\n",
        "print(\"\\nUpdated DataFrame:\\n\", df)\n"
      ]
    }
  ]
}