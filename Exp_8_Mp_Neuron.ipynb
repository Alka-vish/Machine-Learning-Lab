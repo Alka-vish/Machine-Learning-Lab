{
  "nbformat": 4,
  "nbformat_minor": 0,
  "metadata": {
    "colab": {
      "provenance": [],
      "authorship_tag": "ABX9TyO2TNGqFvbGWdrLlxzPFMEj",
      "include_colab_link": true
    },
    "kernelspec": {
      "name": "python3",
      "display_name": "Python 3"
    },
    "language_info": {
      "name": "python"
    }
  },
  "cells": [
    {
      "cell_type": "markdown",
      "metadata": {
        "id": "view-in-github",
        "colab_type": "text"
      },
      "source": [
        "<a href=\"https://colab.research.google.com/github/Alka-vish/Machine-Learning-Lab/blob/main/Exp_8_Mp_Neuron.ipynb\" target=\"_parent\"><img src=\"https://colab.research.google.com/assets/colab-badge.svg\" alt=\"Open In Colab\"/></a>"
      ]
    },
    {
      "cell_type": "code",
      "execution_count": null,
      "metadata": {
        "colab": {
          "base_uri": "https://localhost:8080/"
        },
        "id": "uxgbImmZJGBK",
        "outputId": "f9c1e632-7d65-4224-8191-60be421e8c16"
      },
      "outputs": [
        {
          "output_type": "stream",
          "name": "stdout",
          "text": [
            "AND Gate\n",
            "Input: (0, 0) => Output: 0\n",
            "Input: (0, 1) => Output: 0\n",
            "Input: (1, 0) => Output: 0\n",
            "Input: (1, 1) => Output: 1\n",
            "\n",
            "------------------------------\n",
            "\n",
            "OR Gate\n",
            "Input: (0, 0) => Output: 0\n",
            "Input: (0, 1) => Output: 1\n",
            "Input: (1, 0) => Output: 1\n",
            "Input: (1, 1) => Output: 1\n"
          ]
        }
      ],
      "source": [
        "def mp_neuron(inputs, weights, threshold):\n",
        "    \"\"\"\n",
        "    McCulloch-Pitts Neuron Model\n",
        "    :param inputs: List of binary inputs [x1, x2]\n",
        "    :param weights: List of weights [w1, w2]\n",
        "    :param threshold: Threshold value (θ)\n",
        "    :return: Output (0 or 1)\n",
        "    \"\"\"\n",
        "    summation = sum(i * w for i, w in zip(inputs, weights))\n",
        "    return 1 if summation >= threshold else 0\n",
        "\n",
        "# Logic gate simulation using MP Neuron\n",
        "\n",
        "# Test inputs (all combinations of 2 binary inputs)\n",
        "test_inputs = [(0, 0), (0, 1), (1, 0), (1, 1)]\n",
        "\n",
        "# --------------------------\n",
        "# AND Gate using MP Neuron\n",
        "# --------------------------\n",
        "print(\"AND Gate\")\n",
        "weights_and = [1, 1]      # Equal weights\n",
        "threshold_and = 2         # Fire only when both inputs are 1\n",
        "\n",
        "for inputs in test_inputs:\n",
        "    output = mp_neuron(inputs, weights_and, threshold_and)\n",
        "    print(f\"Input: {inputs} => Output: {output}\")\n",
        "\n",
        "print(\"\\n\" + \"-\"*30 + \"\\n\")\n",
        "\n",
        "# --------------------------\n",
        "# OR Gate using MP Neuron\n",
        "# --------------------------\n",
        "print(\"OR Gate\")\n",
        "weights_or = [1, 1]       # Equal weights\n",
        "threshold_or = 1          # Fire when at least one input is 1\n",
        "\n",
        "for inputs in test_inputs:\n",
        "    output = mp_neuron(inputs, weights_or, threshold_or)\n",
        "    print(f\"Input: {inputs} => Output: {output}\")\n"
      ]
    }
  ]
}